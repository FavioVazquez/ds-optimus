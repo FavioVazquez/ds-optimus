{
 "cells": [
  {
   "cell_type": "markdown",
   "metadata": {},
   "source": [
    "# Introduction to Optimus"
   ]
  },
  {
   "cell_type": "markdown",
   "metadata": {},
   "source": [
    "## Install"
   ]
  },
  {
   "cell_type": "markdown",
   "metadata": {},
   "source": [
    "From command line:\n",
    "\n",
    "```\n",
    "pip install optimuspyspark\n",
    "```\n",
    "\n",
    "from a notebook you can use:\n",
    "\n",
    "```\n",
    "!pip install optimuspyspark\n",
    "```"
   ]
  },
  {
   "cell_type": "markdown",
   "metadata": {},
   "source": [
    "A good thing to do here is to restart the kernel. "
   ]
  },
  {
   "cell_type": "code",
   "execution_count": 1,
   "metadata": {},
   "outputs": [],
   "source": [
    "# Checking the installation\n",
    "from optimus import Optimus\n",
    "op= Optimus(master=\"local\")"
   ]
  },
  {
   "cell_type": "markdown",
   "metadata": {},
   "source": [
    "## DataFrame creation\n",
    "\n",
    "Create a dataframe to passing a list of values for columns and rows. Unlike pandas you need to specify the column names."
   ]
  },
  {
   "cell_type": "code",
   "execution_count": 2,
   "metadata": {},
   "outputs": [],
   "source": [
    "df = op.create.df(\n",
    "    [\n",
    "        \"names\",\n",
    "        \"height(ft)\",\n",
    "        \"function\",\n",
    "        \"rank\",\n",
    "        \"weight(t)\",\n",
    "        \"japanese name\",\n",
    "        \"last position\",\n",
    "        \"attributes\"\n",
    "    ],\n",
    "    [\n",
    "        \n",
    "        (\"Optim'us\", 28.0, \"Leader\", 10, 4.3, [\"Inochi\", \"Convoy\"], \"19.442735,-99.201111\",[8.5344, 4300.0]),\n",
    "        (\"bumbl#ebéé  \", 17.5, \"Espionage\", 7, 2.0, [\"Bumble\",\"Goldback\"], \"10.642707,-71.612534\",[5.334, 2000.0]),\n",
    "        (\"ironhide&\", 26.0, \"Security\", 7, 4.0, [\"Roadbuster\"], \"37.789563,-122.400356\",[7.9248, 4000.0]),\n",
    "        (\"Jazz\",13.0, \"First Lieutenant\", 8, 1.8, [\"Meister\"], \"33.670666,-117.841553\",[3.9624, 1800.0]),\n",
    "        (\"Megatron\",None, \"None\", None, 5.7, [\"Megatron\"], None,[None,5700.0]),\n",
    "        (\"Metroplex_)^$\",300.0 , \"Battle Station\", 8, None, [\"Metroflex\"],None,[91.44, None]),\n",
    "        \n",
    "    ])"
   ]
  },
  {
   "cell_type": "code",
   "execution_count": 5,
   "metadata": {},
   "outputs": [
    {
     "name": "stdout",
     "output_type": "stream",
     "text": [
      "+-------------+----------+----------------+----+---------+------------------+--------------------+----------------+\n",
      "|        names|height(ft)|        function|rank|weight(t)|     japanese name|       last position|      attributes|\n",
      "+-------------+----------+----------------+----+---------+------------------+--------------------+----------------+\n",
      "|     Optim'us|      28.0|          Leader|  10|      4.3|  [Inochi, Convoy]|19.442735,-99.201111|[8.5344, 4300.0]|\n",
      "| bumbl#ebéé  |      17.5|       Espionage|   7|      2.0|[Bumble, Goldback]|10.642707,-71.612534| [5.334, 2000.0]|\n",
      "|    ironhide&|      26.0|        Security|   7|      4.0|      [Roadbuster]|37.789563,-122.40...|[7.9248, 4000.0]|\n",
      "|         Jazz|      13.0|First Lieutenant|   8|      1.8|         [Meister]|33.670666,-117.84...|[3.9624, 1800.0]|\n",
      "|     Megatron|      null|            None|null|      5.7|        [Megatron]|                null|      [, 5700.0]|\n",
      "|Metroplex_)^$|     300.0|  Battle Station|   8|     null|       [Metroflex]|                null|        [91.44,]|\n",
      "+-------------+----------+----------------+----+---------+------------------+--------------------+----------------+\n",
      "\n"
     ]
    }
   ],
   "source": [
    "# View the data with plain spark\n",
    "df.show() # kinda ugly"
   ]
  },
  {
   "cell_type": "markdown",
   "metadata": {},
   "source": [
    "\n",
    "Creating a dataframe by passing a list of tuples specifyng the column data type. You can specify as data type an string or a Spark Datatypes. https://spark.apache.org/docs/latest/api/java/org/apache/spark/sql/types/package-summary.html\n",
    "\n",
    "Also you can use some Optimus predefined types:\n",
    "\n",
    "- \"str\" = StringType()\n",
    "- \"int\" = IntegerType()\n",
    "- \"float\" = FloatType()\n",
    "- \"bool\" = BoleanType()"
   ]
  },
  {
   "cell_type": "code",
   "execution_count": 6,
   "metadata": {},
   "outputs": [
    {
     "name": "stdout",
     "output_type": "stream",
     "text": [
      "+-------------+----------+----------------+----+---------+------------------+--------------------+----------------+\n",
      "|        names|height(ft)|        function|rank|weight(t)|     japanese name|       last position|      attributes|\n",
      "+-------------+----------+----------------+----+---------+------------------+--------------------+----------------+\n",
      "|     Optim'us|      28.0|          Leader|  10|      4.3|  [Inochi, Convoy]|19.442735,-99.201111|[8.5344, 4300.0]|\n",
      "| bumbl#ebéé  |      17.5|       Espionage|   7|      2.0|[Bumble, Goldback]|10.642707,-71.612534| [5.334, 2000.0]|\n",
      "|    ironhide&|      26.0|        Security|   7|      4.0|      [Roadbuster]|37.789563,-122.40...|[7.9248, 4000.0]|\n",
      "|         Jazz|      13.0|First Lieutenant|   8|      1.8|         [Meister]|33.670666,-117.84...|[3.9624, 1800.0]|\n",
      "|     Megatron|      null|            None|null|      5.7|        [Megatron]|                null|      [, 5700.0]|\n",
      "|Metroplex_)^$|     300.0|  Battle Station|   8|     null|       [Metroflex]|                null|        [91.44,]|\n",
      "+-------------+----------+----------------+----+---------+------------------+--------------------+----------------+\n",
      "\n"
     ]
    }
   ],
   "source": [
    "f = op.create.df(\n",
    "    [\n",
    "        (\"names\", \"str\"),\n",
    "        (\"height\", \"float\"),\n",
    "        (\"function\", \"str\"),\n",
    "        (\"rank\", \"int\"),\n",
    "    ],\n",
    "    [\n",
    "        (\"bumbl#ebéé  \", 17.5, \"Espionage\", 7),\n",
    "        (\"Optim'us\", 28.0, \"Leader\", 10),\n",
    "        (\"ironhide&\", 26.0, \"Security\", 7),\n",
    "        (\"Jazz\",13.0, \"First Lieutenant\", 8),\n",
    "        (\"Megatron\",None, \"None\", None),\n",
    "        \n",
    "    ])\n",
    "df.show()"
   ]
  },
  {
   "cell_type": "markdown",
   "metadata": {},
   "source": [
    "## Creating a Daframe using a pandas dataframe"
   ]
  },
  {
   "cell_type": "code",
   "execution_count": 7,
   "metadata": {},
   "outputs": [
    {
     "data": {
      "text/html": [
       "<style>\n",
       "    .data_type {\n",
       "        font-size: 0.8em;\n",
       "        font-weight: normal;\n",
       "    }\n",
       "\n",
       "    .column_name {\n",
       "        font-size: 1.2em;\n",
       "    }\n",
       "\n",
       "    .info_items {\n",
       "        margin: 10px 0;\n",
       "        font-size: 0.8em;\n",
       "    }\n",
       "\n",
       "    .optimus_table tr:nth-child(even) {\n",
       "        background-color: #f2f2f2 !important;\n",
       "    }\n",
       "\n",
       "    .optimus_table tr:nth-child(odd) {\n",
       "        background-color: #ffffff !important;\n",
       "    }\n",
       "\n",
       "    .optimus_table thead {\n",
       "        border-bottom: 1px solid black;\n",
       "    }\n",
       "    .optimus_table{\n",
       "        font-size: 12px;\n",
       "    }\n",
       "\n",
       "</style>\n",
       "\n",
       "\n",
       "\n",
       "\n",
       "<div class=\"info_items\">Viewing 3 of 3 rows / 4 columns</div>\n",
       "<div class=\"info_items\">1 partition(s)</div>\n",
       "\n",
       "<table class=\"optimus_table\">\n",
       "    <thead>\n",
       "    <tr>\n",
       "        \n",
       "        <th>\n",
       "            <div class=\"column_name\">names</div>\n",
       "            <div class=\"data_type\">1 (string)</div>\n",
       "            <div class=\"data_type\">\n",
       "                \n",
       "                nullable\n",
       "                \n",
       "            </div>\n",
       "        </th>\n",
       "        \n",
       "        <th>\n",
       "            <div class=\"column_name\">height</div>\n",
       "            <div class=\"data_type\">2 (double)</div>\n",
       "            <div class=\"data_type\">\n",
       "                \n",
       "                nullable\n",
       "                \n",
       "            </div>\n",
       "        </th>\n",
       "        \n",
       "        <th>\n",
       "            <div class=\"column_name\">function</div>\n",
       "            <div class=\"data_type\">3 (string)</div>\n",
       "            <div class=\"data_type\">\n",
       "                \n",
       "                nullable\n",
       "                \n",
       "            </div>\n",
       "        </th>\n",
       "        \n",
       "        <th>\n",
       "            <div class=\"column_name\">rank</div>\n",
       "            <div class=\"data_type\">4 (bigint)</div>\n",
       "            <div class=\"data_type\">\n",
       "                \n",
       "                nullable\n",
       "                \n",
       "            </div>\n",
       "        </th>\n",
       "        \n",
       "    </tr>\n",
       "\n",
       "    </thead>\n",
       "    <tbody>\n",
       "    \n",
       "    <tr>\n",
       "        \n",
       "        <td>\n",
       "            bumbl#ebéé⸱⸱\n",
       "        </td>\n",
       "        \n",
       "        <td>\n",
       "            Espionage\n",
       "        </td>\n",
       "        \n",
       "        <td>\n",
       "            17.5\n",
       "        </td>\n",
       "        \n",
       "        <td>\n",
       "            7\n",
       "        </td>\n",
       "        \n",
       "    </tr>\n",
       "    \n",
       "    <tr>\n",
       "        \n",
       "        <td>\n",
       "            Optim&#39;us\n",
       "        </td>\n",
       "        \n",
       "        <td>\n",
       "            Leader\n",
       "        </td>\n",
       "        \n",
       "        <td>\n",
       "            28.0\n",
       "        </td>\n",
       "        \n",
       "        <td>\n",
       "            10\n",
       "        </td>\n",
       "        \n",
       "    </tr>\n",
       "    \n",
       "    <tr>\n",
       "        \n",
       "        <td>\n",
       "            ironhide&amp;\n",
       "        </td>\n",
       "        \n",
       "        <td>\n",
       "            Security\n",
       "        </td>\n",
       "        \n",
       "        <td>\n",
       "            26.0\n",
       "        </td>\n",
       "        \n",
       "        <td>\n",
       "            7\n",
       "        </td>\n",
       "        \n",
       "    </tr>\n",
       "    \n",
       "    </tbody>\n",
       "</table>\n",
       "\n",
       "<div class=\"info_items\">Viewing 3 of 3 rows / 4 columns</div>\n",
       "<div class=\"info_items\">1 partition(s)</div>\n"
      ],
      "text/plain": [
       "<IPython.core.display.HTML object>"
      ]
     },
     "metadata": {},
     "output_type": "display_data"
    }
   ],
   "source": [
    "import pandas as pd\n",
    "import numpy as np\n",
    "\n",
    "data = [(\"bumbl#ebéé  \", 17.5, \"Espionage\", 7),\n",
    "         (\"Optim'us\", 28.0, \"Leader\", 10),\n",
    "         (\"ironhide&\", 26.0, \"Security\", 7)]\n",
    "labels = [\"names\", \"height\", \"function\", \"rank\"]\n",
    "\n",
    "# Create pandas dataframe\n",
    "pdf = pd.DataFrame.from_records(data, columns=labels)\n",
    "\n",
    "df = op.create.df(pdf = pdf)\n",
    "df.table()"
   ]
  },
  {
   "cell_type": "markdown",
   "metadata": {},
   "source": [
    "## Columns and Rows\n",
    "\n",
    "Optimus organized operations in columns and rows. This is a little different of how pandas works in which all operations are around the pandas class. We think this approach can better help you to access and transform data."
   ]
  },
  {
   "cell_type": "code",
   "execution_count": 8,
   "metadata": {},
   "outputs": [
    {
     "name": "stdout",
     "output_type": "stream",
     "text": [
      "+---------+------+------------+----+\n",
      "| function|height|       names|rank|\n",
      "+---------+------+------------+----+\n",
      "|Espionage|  17.5|bumbl#ebéé  |   7|\n",
      "|   Leader|  28.0|    Optim'us|  10|\n",
      "| Security|  26.0|   ironhide&|   7|\n",
      "+---------+------+------------+----+\n",
      "\n"
     ]
    }
   ],
   "source": [
    "df.cols.sort().show()"
   ]
  },
  {
   "cell_type": "code",
   "execution_count": 9,
   "metadata": {},
   "outputs": [
    {
     "name": "stdout",
     "output_type": "stream",
     "text": [
      "+------------+------+---------+----+\n",
      "|       names|height| function|rank|\n",
      "+------------+------+---------+----+\n",
      "|    Optim'us|  28.0|   Leader|  10|\n",
      "|bumbl#ebéé  |  17.5|Espionage|   7|\n",
      "|   ironhide&|  26.0| Security|   7|\n",
      "+------------+------+---------+----+\n",
      "\n"
     ]
    }
   ],
   "source": [
    "df.rows.sort(\"rank\").show()"
   ]
  },
  {
   "cell_type": "markdown",
   "metadata": {},
   "source": [
    "## Selection\n",
    "\n",
    "Unlike Pandas, Spark DataFrames don't support random row access. So methods like loc in pandas are not available.\n",
    "\n",
    "Also Pandas don't handle indexes. So methods like iloc are not available."
   ]
  },
  {
   "cell_type": "code",
   "execution_count": 10,
   "metadata": {},
   "outputs": [
    {
     "name": "stdout",
     "output_type": "stream",
     "text": [
      "+------------+\n",
      "|       names|\n",
      "+------------+\n",
      "|bumbl#ebéé  |\n",
      "|    Optim'us|\n",
      "|   ironhide&|\n",
      "+------------+\n",
      "\n"
     ]
    }
   ],
   "source": [
    "# Select an show an specific column\n",
    "df.cols.select(\"names\").show()"
   ]
  },
  {
   "cell_type": "code",
   "execution_count": 11,
   "metadata": {},
   "outputs": [
    {
     "name": "stdout",
     "output_type": "stream",
     "text": [
      "+------------+\n",
      "|       names|\n",
      "+------------+\n",
      "|bumbl#ebéé  |\n",
      "|    Optim'us|\n",
      "|   ironhide&|\n",
      "+------------+\n",
      "\n"
     ]
    }
   ],
   "source": [
    "# This works with plain Spark too\n",
    "df.select(\"names\").show()"
   ]
  },
  {
   "cell_type": "code",
   "execution_count": 12,
   "metadata": {},
   "outputs": [
    {
     "name": "stdout",
     "output_type": "stream",
     "text": [
      "+--------+------+--------+----+\n",
      "|   names|height|function|rank|\n",
      "+--------+------+--------+----+\n",
      "|Optim'us|  28.0|  Leader|  10|\n",
      "+--------+------+--------+----+\n",
      "\n"
     ]
    }
   ],
   "source": [
    "# Select rows from a DataFrame where a the condition is meet\n",
    "df.rows.select(df[\"rank\"]>7).show()"
   ]
  },
  {
   "cell_type": "code",
   "execution_count": 13,
   "metadata": {},
   "outputs": [
    {
     "name": "stdout",
     "output_type": "stream",
     "text": [
      "+--------+------+--------+----+\n",
      "|   names|height|function|rank|\n",
      "+--------+------+--------+----+\n",
      "|Optim'us|  28.0|  Leader|  10|\n",
      "+--------+------+--------+----+\n",
      "\n"
     ]
    }
   ],
   "source": [
    "# This is something like a filter in Spark\n",
    "df.filter(df[\"rank\"]>7).show()"
   ]
  },
  {
   "cell_type": "markdown",
   "metadata": {},
   "source": [
    "This may seem weird, why we are overriding some functions, but it was needed to add more functionalities that Spark won't handle."
   ]
  },
  {
   "cell_type": "code",
   "execution_count": 14,
   "metadata": {},
   "outputs": [
    {
     "name": "stdout",
     "output_type": "stream",
     "text": [
      "+------------+------+---------+----+---+\n",
      "|       names|height| function|rank| id|\n",
      "+------------+------+---------+----+---+\n",
      "|bumbl#ebéé  |  17.5|Espionage|   7|  0|\n",
      "|    Optim'us|  28.0|   Leader|  10|  1|\n",
      "|   ironhide&|  26.0| Security|   7|  2|\n",
      "+------------+------+---------+----+---+\n",
      "\n"
     ]
    }
   ],
   "source": [
    "# Creating an id for a DF\n",
    "df.create_id().show()"
   ]
  },
  {
   "cell_type": "code",
   "execution_count": 15,
   "metadata": {},
   "outputs": [
    {
     "name": "stdout",
     "output_type": "stream",
     "text": [
      "+------------+------+---------+----+-------+\n",
      "|       names|height| function|rank|new_col|\n",
      "+------------+------+---------+----+-------+\n",
      "|bumbl#ebéé  |  17.5|Espionage|   7|      1|\n",
      "|    Optim'us|  28.0|   Leader|  10|      1|\n",
      "|   ironhide&|  26.0| Security|   7|      1|\n",
      "+------------+------+---------+----+-------+\n",
      "\n"
     ]
    }
   ],
   "source": [
    "# Creating new columns\n",
    "\n",
    "df.cols.append(\"new_col\",1).show()"
   ]
  },
  {
   "cell_type": "markdown",
   "metadata": {},
   "source": [
    "In plain Spark to do the same you will need to do:"
   ]
  },
  {
   "cell_type": "code",
   "execution_count": 16,
   "metadata": {},
   "outputs": [
    {
     "name": "stdout",
     "output_type": "stream",
     "text": [
      "+------------+------+---------+----+-------+\n",
      "|       names|height| function|rank|new_col|\n",
      "+------------+------+---------+----+-------+\n",
      "|bumbl#ebéé  |  17.5|Espionage|   7|      1|\n",
      "|    Optim'us|  28.0|   Leader|  10|      1|\n",
      "|   ironhide&|  26.0| Security|   7|      1|\n",
      "+------------+------+---------+----+-------+\n",
      "\n"
     ]
    }
   ],
   "source": [
    "from pyspark.sql.functions import lit\n",
    "df.withColumn(\"new_col\", lit(1)).show()"
   ]
  },
  {
   "cell_type": "markdown",
   "metadata": {},
   "source": [
    "Which is not straightforward at all. "
   ]
  },
  {
   "cell_type": "markdown",
   "metadata": {},
   "source": [
    "## Creating a simple plot"
   ]
  },
  {
   "cell_type": "code",
   "execution_count": 27,
   "metadata": {},
   "outputs": [
    {
     "data": {
      "image/png": "[encoded data removed]",
      "text/plain": [
       "<Figure size 864x360 with 1 Axes>"
      ]
     },
     "metadata": {
      "needs_background": "light"
     },
     "output_type": "display_data"
    }
   ],
   "source": [
    "df.plot.hist(\"height\",10)"
   ]
  },
  {
   "cell_type": "markdown",
   "metadata": {},
   "source": [
    "Yes now you can plot spark DF that easy. "
   ]
  },
  {
   "cell_type": "markdown",
   "metadata": {},
   "source": [
    "## Reading external data"
   ]
  },
  {
   "cell_type": "code",
   "execution_count": 43,
   "metadata": {},
   "outputs": [
    {
     "name": "stdout",
     "output_type": "stream",
     "text": [
      "+---+--------------------+--------------------+---------+----------+-----+----------+--------+\n",
      "| id|           firstName|            lastName|billingId|   product|price|     birth|dummyCol|\n",
      "+---+--------------------+--------------------+---------+----------+-----+----------+--------+\n",
      "|  1|                Luis|         Alvarez$$%!|      123|      Cake|   10|1980/07/07|   never|\n",
      "|  2|               André|              Ampère|      423|      piza|    8|1950/07/08|   gonna|\n",
      "|  3|               NiELS|          Böhr//((%%|      551|     pizza|    8|1990/07/09|    give|\n",
      "|  4|                PAUL|              dirac$|      521|     pizza|    8|1954/07/10|     you|\n",
      "|  5|              Albert|            Einstein|      634|     pizza|    8|1990/07/11|      up|\n",
      "|  6|             Galileo|             GALiLEI|      672|     arepa|    5|1930/08/12|   never|\n",
      "|  7|                CaRL|            Ga%%%uss|      323|      taco|    3|1970/07/13|   gonna|\n",
      "|  8|               David|          H$$$ilbert|      624|  taaaccoo|    3|1950/07/14|     let|\n",
      "|  9|            Johannes|              KEPLER|      735|      taco|    3|1920/04/22|     you|\n",
      "| 10|               JaMES|         M$$ax%%well|      875|      taco|    3|1923/03/12|    down|\n",
      "| 11|               Isaac|              Newton|      992|     pasta|    9|1999/02/15|  never |\n",
      "| 12|              Emmy%%|            Nöether$|      234|     pasta|    9|1993/12/08|   gonna|\n",
      "| 13|              Max!!!|           Planck!!!|      111|hamburguer|    4|1994/01/04|    run |\n",
      "| 14|                Fred|            Hoy&&&le|      553|    pizzza|    8|1997/06/27|  around|\n",
      "| 15|(((   Heinrich )))))|               Hertz|      116|     pizza|    8|1956/11/30|     and|\n",
      "| 16|             William|          Gilbert###|      886|      BEER|    2|1958/03/26|  desert|\n",
      "| 17|               Marie|               CURIE|      912|      Rice|    1|2000/03/22|     you|\n",
      "| 18|              Arthur|          COM%%%pton|      812|    110790|    5|1899/01/01|       #|\n",
      "| 19|               JAMES|            Chadwick|      467|      null|   10|1921/05/03|       #|\n",
      "+---+--------------------+--------------------+---------+----------+-----+----------+--------+\n",
      "\n"
     ]
    }
   ],
   "source": [
    "df_csv = op.load.csv(\"foo.csv\", header=True)\n",
    "df_csv.show()"
   ]
  },
  {
   "cell_type": "markdown",
   "metadata": {},
   "source": [
    "## Reading data from the Web"
   ]
  },
  {
   "cell_type": "code",
   "execution_count": 22,
   "metadata": {},
   "outputs": [
    {
     "name": "stdout",
     "output_type": "stream",
     "text": [
      "+---+--------------------+--------------------+---------+----------+-----+----------+--------+\n",
      "| id|           firstName|            lastName|billingId|   product|price|     birth|dummyCol|\n",
      "+---+--------------------+--------------------+---------+----------+-----+----------+--------+\n",
      "|  1|                Luis|         Alvarez$$%!|      123|      Cake|   10|1980/07/07|   never|\n",
      "|  2|               André|              Ampère|      423|      piza|    8|1950/07/08|   gonna|\n",
      "|  3|               NiELS|          Böhr//((%%|      551|     pizza|    8|1990/07/09|    give|\n",
      "|  4|                PAUL|              dirac$|      521|     pizza|    8|1954/07/10|     you|\n",
      "|  5|              Albert|            Einstein|      634|     pizza|    8|1990/07/11|      up|\n",
      "|  6|             Galileo|             GALiLEI|      672|     arepa|    5|1930/08/12|   never|\n",
      "|  7|                CaRL|            Ga%%%uss|      323|      taco|    3|1970/07/13|   gonna|\n",
      "|  8|               David|          H$$$ilbert|      624|  taaaccoo|    3|1950/07/14|     let|\n",
      "|  9|            Johannes|              KEPLER|      735|      taco|    3|1920/04/22|     you|\n",
      "| 10|               JaMES|         M$$ax%%well|      875|      taco|    3|1923/03/12|    down|\n",
      "| 11|               Isaac|              Newton|      992|     pasta|    9|1999/02/15|  never |\n",
      "| 12|              Emmy%%|            Nöether$|      234|     pasta|    9|1993/12/08|   gonna|\n",
      "| 13|              Max!!!|           Planck!!!|      111|hamburguer|    4|1994/01/04|    run |\n",
      "| 14|                Fred|            Hoy&&&le|      553|    pizzza|    8|1997/06/27|  around|\n",
      "| 15|(((   Heinrich )))))|               Hertz|      116|     pizza|    8|1956/11/30|     and|\n",
      "| 16|             William|          Gilbert###|      886|      BEER|    2|1958/03/26|  desert|\n",
      "| 17|               Marie|               CURIE|      912|      Rice|    1|2000/03/22|     you|\n",
      "| 18|              Arthur|          COM%%%pton|      812|    110790|    5|1899/01/01|       #|\n",
      "| 19|               JAMES|            Chadwick|      467|      null|   10|1921/05/03|       #|\n",
      "+---+--------------------+--------------------+---------+----------+-----+----------+--------+\n",
      "\n"
     ]
    }
   ],
   "source": [
    "df_url =op.load.url(\"https://raw.githubusercontent.com/ironmussa/Optimus/master/examples/data/foo.csv\")\n",
    "df_url.show()"
   ]
  },
  {
   "cell_type": "markdown",
   "metadata": {},
   "source": [
    "## Joins, merge, concat, etc."
   ]
  },
  {
   "cell_type": "markdown",
   "metadata": {},
   "source": [
    "Optimus provides and intuitive way to concat Dataframes by columns or rows. Operations like `join` and `group` are handle using Spark directly"
   ]
  },
  {
   "cell_type": "code",
   "execution_count": 34,
   "metadata": {},
   "outputs": [
    {
     "name": "stdout",
     "output_type": "stream",
     "text": [
      "+------------+------+---------+----+\n",
      "|       names|height| function|rank|\n",
      "+------------+------+---------+----+\n",
      "|bumbl#ebéé  |  17.5|Espionage|   7|\n",
      "|    Optim'us|  28.0|   Leader|  10|\n",
      "|   ironhide&|  26.0| Security|   7|\n",
      "+------------+------+---------+----+\n",
      "\n"
     ]
    }
   ],
   "source": [
    "# We have this dataframe\n",
    "df.show()"
   ]
  },
  {
   "cell_type": "code",
   "execution_count": 40,
   "metadata": {},
   "outputs": [],
   "source": [
    "# Let's add a new column\n",
    "df_new = op.create.df(\n",
    "    [\n",
    "        \"try\"\n",
    "    ],\n",
    "    [\n",
    "        (\"one\"),\n",
    "        (\"two\"),\n",
    "        (\"three\")  \n",
    "    ])\n",
    "\n",
    "df_new = op.append([df,df_new], \"columns\")"
   ]
  },
  {
   "cell_type": "code",
   "execution_count": 41,
   "metadata": {},
   "outputs": [
    {
     "name": "stdout",
     "output_type": "stream",
     "text": [
      "+------------+------+---------+----+-----+\n",
      "|       names|height| function|rank|  try|\n",
      "+------------+------+---------+----+-----+\n",
      "|bumbl#ebéé  |  17.5|Espionage|   7|  one|\n",
      "|    Optim'us|  28.0|   Leader|  10|  two|\n",
      "|   ironhide&|  26.0| Security|   7|three|\n",
      "+------------+------+---------+----+-----+\n",
      "\n"
     ]
    }
   ],
   "source": [
    "df_new.show()"
   ]
  },
  {
   "cell_type": "code",
   "execution_count": 37,
   "metadata": {},
   "outputs": [
    {
     "name": "stdout",
     "output_type": "stream",
     "text": [
      "root\n",
      " |-- names: string (nullable = true)\n",
      " |-- height: double (nullable = true)\n",
      " |-- function: string (nullable = true)\n",
      " |-- rank: long (nullable = true)\n",
      " |-- try: string (nullable = true)\n",
      "\n"
     ]
    }
   ],
   "source": [
    "df_new.printSchema()"
   ]
  },
  {
   "cell_type": "code",
   "execution_count": 38,
   "metadata": {},
   "outputs": [
    {
     "name": "stdout",
     "output_type": "stream",
     "text": [
      "+------------+------+---------+----+-------+\n",
      "|       names|height| function|rank|    try|\n",
      "+------------+------+---------+----+-------+\n",
      "|bumbl#ebéé  |  17.5|Espionage|   7|    one|\n",
      "|    Optim'us|  28.0|   Leader|  10|    two|\n",
      "|   ironhide&|  26.0| Security|   7|  three|\n",
      "|       favio|  10.0|   Leader|   1|new_row|\n",
      "+------------+------+---------+----+-------+\n",
      "\n"
     ]
    }
   ],
   "source": [
    "# Let's add a new row\n",
    "\n",
    "new_row = [(\"favio\", 10, \"Leader\", 1, \"new_row\")]\n",
    "df_new = df_new.rows.append(new_row).show()"
   ]
  },
  {
   "cell_type": "markdown",
   "metadata": {},
   "source": [
    "## Doing fun stuff with columns and rows"
   ]
  },
  {
   "cell_type": "code",
   "execution_count": 42,
   "metadata": {},
   "outputs": [],
   "source": [
    "# Let's create a dataframe :)\n",
    "\n",
    "\n",
    "from pyspark.sql.types import StructType, StructField, StringType, BooleanType, IntegerType, ArrayType\n",
    "\n",
    "df = op.create.df(\n",
    "            [\n",
    "                (\"words\", \"str\", True),\n",
    "                (\"num\", \"int\", True),\n",
    "                (\"animals\", \"str\", True),\n",
    "                (\"thing\", StringType(), True),\n",
    "                (\"two strings\", StringType(), True),\n",
    "                (\"filter\", StringType(), True),\n",
    "                (\"num 2\", \"string\", True),\n",
    "                (\"col_array\",  ArrayType(StringType()), True),\n",
    "                (\"col_int\",  ArrayType(IntegerType()), True)\n",
    "\n",
    "            ]\n",
    ",\n",
    "[\n",
    "                (\"  I like     fish  \", 1, \"dog\", \"housé\", \"cat-car\", \"a\",\"1\",[\"baby\", \"sorry\"],[1,2,3]),\n",
    "                (\"    zombies\", 2, \"cat\", \"tv\", \"dog-tv\", \"b\",\"2\",[\"baby 1\", \"sorry 1\"],[3,4]),\n",
    "                (\"simpsons   cat lady\", 2, \"frog\", \"table\",\"eagle-tv-plus\",\"1\",\"3\", [\"baby 2\", \"sorry 2\"], [5,6,7]),\n",
    "                (None, 3, \"eagle\", \"glass\", \"lion-pc\", \"c\",\"4\", [\"baby 3\", \"sorry 3\"] ,[7,8])\n",
    "            ])"
   ]
  },
  {
   "cell_type": "code",
   "execution_count": 45,
   "metadata": {},
   "outputs": [
    {
     "name": "stdout",
     "output_type": "stream",
     "text": [
      "+-------------------+---+-------+-----+-------------+------+-----+-----------------+---------+\n",
      "|              words|num|animals|thing|  two strings|filter|num 2|        col_array|  col_int|\n",
      "+-------------------+---+-------+-----+-------------+------+-----+-----------------+---------+\n",
      "|  I like     fish  |  1|    dog|housé|      cat-car|     a|    1|    [baby, sorry]|[1, 2, 3]|\n",
      "|            zombies|  2|    cat|   tv|       dog-tv|     b|    2|[baby 1, sorry 1]|   [3, 4]|\n",
      "|simpsons   cat lady|  2|   frog|table|eagle-tv-plus|     1|    3|[baby 2, sorry 2]|[5, 6, 7]|\n",
      "|               null|  3|  eagle|glass|      lion-pc|     c|    4|[baby 3, sorry 3]|   [7, 8]|\n",
      "+-------------------+---+-------+-----+-------------+------+-----+-----------------+---------+\n",
      "\n"
     ]
    }
   ],
   "source": [
    "df.show()"
   ]
  },
  {
   "cell_type": "markdown",
   "metadata": {},
   "source": [
    "With Optimus you can select columns with index or name, and even combined"
   ]
  },
  {
   "cell_type": "code",
   "execution_count": 46,
   "metadata": {},
   "outputs": [
    {
     "name": "stdout",
     "output_type": "stream",
     "text": [
      "+-------------------+---+-------+-----+\n",
      "|              words|num|animals|thing|\n",
      "+-------------------+---+-------+-----+\n",
      "|  I like     fish  |  1|    dog|housé|\n",
      "|            zombies|  2|    cat|   tv|\n",
      "|simpsons   cat lady|  2|   frog|table|\n",
      "|               null|  3|  eagle|glass|\n",
      "+-------------------+---+-------+-----+\n",
      "\n"
     ]
    }
   ],
   "source": [
    "columns = [\"words\", 1, \"animals\", 3]\n",
    "df.cols.select(columns).show()"
   ]
  },
  {
   "cell_type": "markdown",
   "metadata": {},
   "source": [
    "Select columns with a Regex"
   ]
  },
  {
   "cell_type": "code",
   "execution_count": 47,
   "metadata": {},
   "outputs": [
    {
     "name": "stdout",
     "output_type": "stream",
     "text": [
      "+---+-----+\n",
      "|num|num 2|\n",
      "+---+-----+\n",
      "|  1|    1|\n",
      "|  2|    2|\n",
      "|  2|    3|\n",
      "|  3|    4|\n",
      "+---+-----+\n",
      "\n"
     ]
    }
   ],
   "source": [
    "df.cols.select(\"n.*\", regex = True).show()"
   ]
  },
  {
   "cell_type": "markdown",
   "metadata": {},
   "source": [
    "Select all the columns of type string"
   ]
  },
  {
   "cell_type": "code",
   "execution_count": 48,
   "metadata": {},
   "outputs": [
    {
     "name": "stdout",
     "output_type": "stream",
     "text": [
      "+-----+-------------------+-------------+------+-----+-------+\n",
      "|num 2|              words|  two strings|filter|thing|animals|\n",
      "+-----+-------------------+-------------+------+-----+-------+\n",
      "|    1|  I like     fish  |      cat-car|     a|housé|    dog|\n",
      "|    2|            zombies|       dog-tv|     b|   tv|    cat|\n",
      "|    3|simpsons   cat lady|eagle-tv-plus|     1|table|   frog|\n",
      "|    4|               null|      lion-pc|     c|glass|  eagle|\n",
      "+-----+-------------------+-------------+------+-----+-------+\n",
      "\n"
     ]
    }
   ],
   "source": [
    "df.cols.select(\"*\", data_type = \"str\").show()"
   ]
  },
  {
   "cell_type": "markdown",
   "metadata": {},
   "source": [
    "Rename a columun"
   ]
  },
  {
   "cell_type": "code",
   "execution_count": 49,
   "metadata": {},
   "outputs": [
    {
     "name": "stdout",
     "output_type": "stream",
     "text": [
      "+-------------------+------+-------+-----+-------------+------+-----+-----------------+---------+\n",
      "|              words|number|animals|thing|  two strings|filter|num 2|        col_array|  col_int|\n",
      "+-------------------+------+-------+-----+-------------+------+-----+-----------------+---------+\n",
      "|  I like     fish  |     1|    dog|housé|      cat-car|     a|    1|    [baby, sorry]|[1, 2, 3]|\n",
      "|            zombies|     2|    cat|   tv|       dog-tv|     b|    2|[baby 1, sorry 1]|   [3, 4]|\n",
      "|simpsons   cat lady|     2|   frog|table|eagle-tv-plus|     1|    3|[baby 2, sorry 2]|[5, 6, 7]|\n",
      "|               null|     3|  eagle|glass|      lion-pc|     c|    4|[baby 3, sorry 3]|   [7, 8]|\n",
      "+-------------------+------+-------+-----+-------------+------+-----+-----------------+---------+\n",
      "\n"
     ]
    }
   ],
   "source": [
    "df.cols.rename('num','number').show()"
   ]
  },
  {
   "cell_type": "markdown",
   "metadata": {},
   "source": [
    "Rename multiple columns and uppercase all the columns¶"
   ]
  },
  {
   "cell_type": "code",
   "execution_count": 50,
   "metadata": {},
   "outputs": [
    {
     "name": "stdout",
     "output_type": "stream",
     "text": [
      "+-------------------+---+-------+-----+-------------+------+-----+-----------------+---------+\n",
      "|              WORDS|NUM|ANIMALS|THING|  TWO STRINGS|FILTER|NUM 2|        COL_ARRAY|  COL_INT|\n",
      "+-------------------+---+-------+-----+-------------+------+-----+-----------------+---------+\n",
      "|  I like     fish  |  1|    dog|housé|      cat-car|     a|    1|    [baby, sorry]|[1, 2, 3]|\n",
      "|            zombies|  2|    cat|   tv|       dog-tv|     b|    2|[baby 1, sorry 1]|   [3, 4]|\n",
      "|simpsons   cat lady|  2|   frog|table|eagle-tv-plus|     1|    3|[baby 2, sorry 2]|[5, 6, 7]|\n",
      "|               null|  3|  eagle|glass|      lion-pc|     c|    4|[baby 3, sorry 3]|   [7, 8]|\n",
      "+-------------------+---+-------+-----+-------------+------+-----+-----------------+---------+\n",
      "\n"
     ]
    }
   ],
   "source": [
    "df.cols.rename([('num','number'),(\"animals\",\"gods\")], str.upper).show()"
   ]
  },
  {
   "cell_type": "markdown",
   "metadata": {},
   "source": [
    "Convert to uppercase"
   ]
  },
  {
   "cell_type": "code",
   "execution_count": 51,
   "metadata": {},
   "outputs": [
    {
     "name": "stdout",
     "output_type": "stream",
     "text": [
      "+-------------------+---+-------+-----+-------------+------+-----+-----------------+---------+\n",
      "|              WORDS|NUM|ANIMALS|THING|  TWO STRINGS|FILTER|NUM 2|        COL_ARRAY|  COL_INT|\n",
      "+-------------------+---+-------+-----+-------------+------+-----+-----------------+---------+\n",
      "|  I like     fish  |  1|    dog|housé|      cat-car|     a|    1|    [baby, sorry]|[1, 2, 3]|\n",
      "|            zombies|  2|    cat|   tv|       dog-tv|     b|    2|[baby 1, sorry 1]|   [3, 4]|\n",
      "|simpsons   cat lady|  2|   frog|table|eagle-tv-plus|     1|    3|[baby 2, sorry 2]|[5, 6, 7]|\n",
      "|               null|  3|  eagle|glass|      lion-pc|     c|    4|[baby 3, sorry 3]|   [7, 8]|\n",
      "+-------------------+---+-------+-----+-------------+------+-----+-----------------+---------+\n",
      "\n"
     ]
    }
   ],
   "source": [
    "df.cols.rename(str.upper).show()"
   ]
  },
  {
   "cell_type": "markdown",
   "metadata": {},
   "source": [
    "Sort columns in alphabetical order"
   ]
  },
  {
   "cell_type": "code",
   "execution_count": 53,
   "metadata": {},
   "outputs": [
    {
     "name": "stdout",
     "output_type": "stream",
     "text": [
      "+-------+-----------------+---------+------+---+-----+-----+-------------+-------------------+\n",
      "|animals|        col_array|  col_int|filter|num|num 2|thing|  two strings|              words|\n",
      "+-------+-----------------+---------+------+---+-----+-----+-------------+-------------------+\n",
      "|    dog|    [baby, sorry]|[1, 2, 3]|     a|  1|    1|housé|      cat-car|  I like     fish  |\n",
      "|    cat|[baby 1, sorry 1]|   [3, 4]|     b|  2|    2|   tv|       dog-tv|            zombies|\n",
      "|   frog|[baby 2, sorry 2]|[5, 6, 7]|     1|  2|    3|table|eagle-tv-plus|simpsons   cat lady|\n",
      "|  eagle|[baby 3, sorry 3]|   [7, 8]|     c|  3|    4|glass|      lion-pc|               null|\n",
      "+-------+-----------------+---------+------+---+-----+-----+-------------+-------------------+\n",
      "\n"
     ]
    }
   ],
   "source": [
    "df.cols.sort(order = \"asc\").show()"
   ]
  },
  {
   "cell_type": "markdown",
   "metadata": {},
   "source": [
    "Drop multiple columns"
   ]
  },
  {
   "cell_type": "code",
   "execution_count": 54,
   "metadata": {},
   "outputs": [
    {
     "name": "stdout",
     "output_type": "stream",
     "text": [
      "+-------+-----+-------------+------+-----+-----------------+---------+\n",
      "|animals|thing|  two strings|filter|num 2|        col_array|  col_int|\n",
      "+-------+-----+-------------+------+-----+-----------------+---------+\n",
      "|    dog|housé|      cat-car|     a|    1|    [baby, sorry]|[1, 2, 3]|\n",
      "|    cat|   tv|       dog-tv|     b|    2|[baby 1, sorry 1]|   [3, 4]|\n",
      "|   frog|table|eagle-tv-plus|     1|    3|[baby 2, sorry 2]|[5, 6, 7]|\n",
      "|  eagle|glass|      lion-pc|     c|    4|[baby 3, sorry 3]|   [7, 8]|\n",
      "+-------+-----+-------------+------+-----+-----------------+---------+\n",
      "\n"
     ]
    }
   ],
   "source": [
    "df.cols.drop([\"num\",\"words\"]).show()"
   ]
  },
  {
   "cell_type": "markdown",
   "metadata": {},
   "source": [
    "Sort by row values"
   ]
  },
  {
   "cell_type": "code",
   "execution_count": 56,
   "metadata": {},
   "outputs": [
    {
     "name": "stdout",
     "output_type": "stream",
     "text": [
      "+-------------------+---+-------+-----+-------------+------+-----+-----------------+---------+\n",
      "|              words|num|animals|thing|  two strings|filter|num 2|        col_array|  col_int|\n",
      "+-------------------+---+-------+-----+-------------+------+-----+-----------------+---------+\n",
      "|simpsons   cat lady|  2|   frog|table|eagle-tv-plus|     1|    3|[baby 2, sorry 2]|[5, 6, 7]|\n",
      "|               null|  3|  eagle|glass|      lion-pc|     c|    4|[baby 3, sorry 3]|   [7, 8]|\n",
      "|  I like     fish  |  1|    dog|housé|      cat-car|     a|    1|    [baby, sorry]|[1, 2, 3]|\n",
      "|            zombies|  2|    cat|   tv|       dog-tv|     b|    2|[baby 1, sorry 1]|   [3, 4]|\n",
      "+-------------------+---+-------+-----+-------------+------+-----+-----------------+---------+\n",
      "\n"
     ]
    }
   ],
   "source": [
    "df.rows.sort(\"animals\").show()"
   ]
  },
  {
   "cell_type": "markdown",
   "metadata": {},
   "source": [
    "Select by row"
   ]
  },
  {
   "cell_type": "code",
   "execution_count": 57,
   "metadata": {},
   "outputs": [
    {
     "name": "stdout",
     "output_type": "stream",
     "text": [
      "+-------------------+---+-------+-----+-----------+------+-----+-------------+---------+\n",
      "|              words|num|animals|thing|two strings|filter|num 2|    col_array|  col_int|\n",
      "+-------------------+---+-------+-----+-----------+------+-----+-------------+---------+\n",
      "|  I like     fish  |  1|    dog|housé|    cat-car|     a|    1|[baby, sorry]|[1, 2, 3]|\n",
      "+-------------------+---+-------+-----+-----------+------+-----+-------------+---------+\n",
      "\n"
     ]
    }
   ],
   "source": [
    "df.rows.select(df[\"num\"]==1).show()"
   ]
  },
  {
   "cell_type": "markdown",
   "metadata": {},
   "source": [
    "## Chaining\n",
    "\n",
    ".cols y .rows attributes are used to organize and encapsulate optimus functionality apart from Apache Spark Dataframe API.\n",
    "\n",
    "At the same time it can be helpfull when you look at the code because every line is self explained.\n",
    "\n",
    "The past transformations were done step by step, but this can be achieved by chaining all operations into one line of code, like the cell below. This way is much more efficient and scalable because it uses all optimization issues from the lazy evaluation approach."
   ]
  },
  {
   "cell_type": "code",
   "execution_count": 55,
   "metadata": {},
   "outputs": [
    {
     "name": "stdout",
     "output_type": "stream",
     "text": [
      "Orginal DF\n",
      "+-------------------+---+-------+-----+-------------+------+-----+-----------------+---------+\n",
      "|              words|num|animals|thing|  two strings|filter|num 2|        col_array|  col_int|\n",
      "+-------------------+---+-------+-----+-------------+------+-----+-----------------+---------+\n",
      "|  I like     fish  |  1|    dog|housé|      cat-car|     a|    1|    [baby, sorry]|[1, 2, 3]|\n",
      "|            zombies|  2|    cat|   tv|       dog-tv|     b|    2|[baby 1, sorry 1]|   [3, 4]|\n",
      "|simpsons   cat lady|  2|   frog|table|eagle-tv-plus|     1|    3|[baby 2, sorry 2]|[5, 6, 7]|\n",
      "|               null|  3|  eagle|glass|      lion-pc|     c|    4|[baby 3, sorry 3]|   [7, 8]|\n",
      "+-------------------+---+-------+-----+-------------+------+-----+-----------------+---------+\n",
      "\n",
      "New DF\n",
      "+-----------+-----+-----+---------+---------+------+---------+-----------------+-------+\n",
      "|two strings|thing|num 2|new_col_2|new_col_1|filter|  col_int|        col_array|animals|\n",
      "+-----------+-----+-----+---------+---------+------+---------+-----------------+-------+\n",
      "|    cat-car|housé|    1|spongebob|        1|     a|[1, 2, 3]|    [baby, sorry]|    dog|\n",
      "|     dog-tv|   tv|    2|spongebob|        1|     b|   [3, 4]|[baby 1, sorry 1]|    cat|\n",
      "|    lion-pc|glass|    4|spongebob|        1|     c|   [7, 8]|[baby 3, sorry 3]|  eagle|\n",
      "+-----------+-----+-----+---------+---------+------+---------+-----------------+-------+\n",
      "\n"
     ]
    }
   ],
   "source": [
    "print(\"Orginal DF\")\n",
    "df.show()\n",
    "\n",
    "print(\"New DF\")\n",
    "df\\\n",
    "    .cols.rename([('num','number')])\\\n",
    "    .cols.drop([\"number\",\"words\"])\\\n",
    "    .withColumn(\"new_col_2\", lit(\"spongebob\"))\\\n",
    "    .cols.append(\"new_col_1\", 1)\\\n",
    "    .cols.sort(order= \"desc\")\\\n",
    "    .rows.drop(df[\"num 2\"] == 3)\\\n",
    "    .show()"
   ]
  }
 ],
 "metadata": {
  "kernelspec": {
   "display_name": "Python 3",
   "language": "python",
   "name": "python3"
  },
  "language_info": {
   "codemirror_mode": {
    "name": "ipython",
    "version": 3
   },
   "file_extension": ".py",
   "mimetype": "text/x-python",
   "name": "python",
   "nbconvert_exporter": "python",
   "pygments_lexer": "ipython3",
   "version": "3.6.8"
  }
 },
 "nbformat": 4,
 "nbformat_minor": 2
}
